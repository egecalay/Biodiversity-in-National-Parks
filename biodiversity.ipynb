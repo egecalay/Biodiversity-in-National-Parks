{
 "cells": [
  {
   "cell_type": "markdown",
   "metadata": {},
   "source": [
    "### Project Objectives\n",
    "This project will attempt to answer the following questions from the data provided.\n",
    "1. Which species appear in which park the most?\n",
    "2. Is there a significant difference between species and their conservation status?\n",
    "3. Are certain types of species more likely to be endangered? "
   ]
  },
  {
   "cell_type": "code",
   "execution_count": 342,
   "metadata": {},
   "outputs": [],
   "source": [
    "#Import required libraries\n",
    "import numpy as np\n",
    "import pandas as pd\n",
    "import matplotlib as plt\n",
    "import seaborn as sns\n",
    "\n"
   ]
  },
  {
   "cell_type": "code",
   "execution_count": 343,
   "metadata": {},
   "outputs": [],
   "source": [
    "#load the data\n",
    "species = pd.read_csv('species_info.csv')\n",
    "observations = pd.read_csv('observations.csv')\n"
   ]
  },
  {
   "cell_type": "code",
   "execution_count": 344,
   "metadata": {},
   "outputs": [
    {
     "name": "stdout",
     "output_type": "stream",
     "text": [
      "Index(['category', 'scientific_name', 'common_names', 'conservation_status'], dtype='object')\n",
      "Index(['scientific_name', 'park_name', 'observations'], dtype='object')\n"
     ]
    }
   ],
   "source": [
    "print(species.columns)\n",
    "print(observations.columns)"
   ]
  },
  {
   "cell_type": "code",
   "execution_count": 345,
   "metadata": {},
   "outputs": [
    {
     "name": "stdout",
     "output_type": "stream",
     "text": [
      "<class 'pandas.core.frame.DataFrame'>\n",
      "RangeIndex: 23296 entries, 0 to 23295\n",
      "Data columns (total 3 columns):\n",
      " #   Column           Non-Null Count  Dtype \n",
      "---  ------           --------------  ----- \n",
      " 0   scientific_name  23296 non-null  object\n",
      " 1   park_name        23296 non-null  object\n",
      " 2   observations     23296 non-null  int64 \n",
      "dtypes: int64(1), object(2)None\n",
      "\n",
      "\n",
      "<class 'pandas.core.frame.DataFrame'>\n",
      "RangeIndex: 5824 entries, 0 to 5823\n",
      "Data columns (total 4 columns):\n",
      " #   Column               Non-Null Count  Dtype \n",
      "---  ------               --------------  ----- \n",
      " 0   category             5824 non-null   object\n",
      " 1   scientific_name      5824 non-null   object\n",
      " 2   common_names         5824 non-null   object\n",
      " 3   conservation_status  191 non-null    object\n",
      "dtypes: object(4)None\n"
     ]
    }
   ],
   "source": [
    "# check how many null values exist: \n",
    "# what are different data types in the data set?\n",
    "\n",
    "print(observations.info(memory_usage= False))\n",
    "print('\\n')\n",
    "print(species.info(memory_usage= False))\n",
    "\n",
    "# 5824-191 = 5633: There are 5633 missing(null) rows in the conversation status.\n"
   ]
  },
  {
   "cell_type": "code",
   "execution_count": 346,
   "metadata": {},
   "outputs": [
    {
     "name": "stdout",
     "output_type": "stream",
     "text": [
      "            category                   scientific_name  \\\n",
      "7             Mammal                     Canis latrans   \n",
      "8             Mammal                       Canis lupus   \n",
      "9             Mammal                       Canis rufus   \n",
      "29            Mammal                  Eptesicus fuscus   \n",
      "30            Mammal         Lasionycteris noctivagans   \n",
      "...              ...                               ...   \n",
      "5302  Vascular Plant             Callitriche marginata   \n",
      "5399  Vascular Plant  Camissonia sierrae ssp. alticola   \n",
      "5426  Vascular Plant                Epilobium oreganum   \n",
      "5436  Vascular Plant              Botrychium ascendens   \n",
      "5676  Vascular Plant                  Romneya coulteri   \n",
      "\n",
      "                                           common_names conservation_status  \n",
      "7                                                Coyote  Species of Concern  \n",
      "8                                             Gray Wolf          Endangered  \n",
      "9                                              Red Wolf          Endangered  \n",
      "29                                        Big Brown Bat  Species of Concern  \n",
      "30                                    Silver-Haired Bat  Species of Concern  \n",
      "...                                                 ...                 ...  \n",
      "5302                              Winged Water-Starwort  Species of Concern  \n",
      "5399  Mono Hot Springs Evening Primrose, Mono Hot Sp...  Species of Concern  \n",
      "5426            Grants Pass Willowherb, Oregon Fireweed  Species of Concern  \n",
      "5436            Trianglelobe Moonwort, Upswept Moonwort  Species of Concern  \n",
      "5676                           Coulter's Matilija Poppy  Species of Concern  \n",
      "\n",
      "[191 rows x 4 columns]\n",
      "            category                scientific_name  \\\n",
      "0             Mammal  Clethrionomys gapperi gapperi   \n",
      "1             Mammal                      Bos bison   \n",
      "2             Mammal                     Bos taurus   \n",
      "3             Mammal                     Ovis aries   \n",
      "4             Mammal                 Cervus elaphus   \n",
      "...              ...                            ...   \n",
      "5819  Vascular Plant               Solanum parishii   \n",
      "5820  Vascular Plant                  Solanum xanti   \n",
      "5821  Vascular Plant         Parthenocissus vitacea   \n",
      "5822  Vascular Plant              Vitis californica   \n",
      "5823  Vascular Plant            Tribulus terrestris   \n",
      "\n",
      "                                           common_names conservation_status  \n",
      "0                              Gapper's Red-Backed Vole                 NaN  \n",
      "1                                 American Bison, Bison                 NaN  \n",
      "2     Aurochs, Aurochs, Domestic Cattle (Feral), Dom...                 NaN  \n",
      "3     Domestic Sheep, Mouflon, Red Sheep, Sheep (Feral)                 NaN  \n",
      "4                                         Wapiti Or Elk                 NaN  \n",
      "...                                                 ...                 ...  \n",
      "5819                                Parish's Nightshade                 NaN  \n",
      "5820            Chaparral Nightshade, Purple Nightshade                 NaN  \n",
      "5821        Thicket Creeper, Virginia Creeper, Woodbine                 NaN  \n",
      "5822            California Grape, California Wild Grape                 NaN  \n",
      "5823  Bullhead, Caltrop, Goathead, Mexican Sandbur, ...                 NaN  \n",
      "\n",
      "[5633 rows x 4 columns]\n"
     ]
    },
    {
     "data": {
      "text/plain": [
       "NaN                   5633\n",
       "Species of Concern     161\n",
       "Endangered              16\n",
       "Threatened              10\n",
       "In Recovery              4\n",
       "Name: conservation_status, dtype: int64"
      ]
     },
     "execution_count": 346,
     "metadata": {},
     "output_type": "execute_result"
    }
   ],
   "source": [
    "# Let's look at if missing data is systematic or if it's random before we try to deal with it.\n",
    "print(species[species.conservation_status.notnull()])\n",
    "print(species[species.conservation_status.isnull()])\n",
    "species.conservation_status.value_counts(dropna=False)\n",
    "#It appears that the missing rows are structurally missing data."
   ]
  },
  {
   "cell_type": "code",
   "execution_count": 347,
   "metadata": {},
   "outputs": [
    {
     "name": "stdout",
     "output_type": "stream",
     "text": [
      "Castor canadensis            3\n",
      "Canis lupus                  3\n",
      "Hypochaeris radicata         3\n",
      "Columba livia                3\n",
      "Puma concolor                3\n",
      "                            ..\n",
      "Carex                        1\n",
      "Hexastylis shuttleworthii    1\n",
      "Hexastylis heterophylla      1\n",
      "Hexastylis arifolia          1\n",
      "Tribulus terrestris          1\n",
      "Name: scientific_name, Length: 5541, dtype: int64\n",
      "5824\n"
     ]
    },
    {
     "data": {
      "text/html": [
       "<div>\n",
       "<style scoped>\n",
       "    .dataframe tbody tr th:only-of-type {\n",
       "        vertical-align: middle;\n",
       "    }\n",
       "\n",
       "    .dataframe tbody tr th {\n",
       "        vertical-align: top;\n",
       "    }\n",
       "\n",
       "    .dataframe thead th {\n",
       "        text-align: right;\n",
       "    }\n",
       "</style>\n",
       "<table border=\"1\" class=\"dataframe\">\n",
       "  <thead>\n",
       "    <tr style=\"text-align: right;\">\n",
       "      <th></th>\n",
       "      <th>category</th>\n",
       "      <th>scientific_name</th>\n",
       "      <th>common_names</th>\n",
       "      <th>conservation_status</th>\n",
       "      <th>dup_scientific_name</th>\n",
       "    </tr>\n",
       "  </thead>\n",
       "  <tbody>\n",
       "    <tr>\n",
       "      <th>4</th>\n",
       "      <td>Mammal</td>\n",
       "      <td>Cervus elaphus</td>\n",
       "      <td>Wapiti Or Elk</td>\n",
       "      <td>NaN</td>\n",
       "      <td>True</td>\n",
       "    </tr>\n",
       "    <tr>\n",
       "      <th>5</th>\n",
       "      <td>Mammal</td>\n",
       "      <td>Odocoileus virginianus</td>\n",
       "      <td>White-Tailed Deer</td>\n",
       "      <td>NaN</td>\n",
       "      <td>True</td>\n",
       "    </tr>\n",
       "    <tr>\n",
       "      <th>6</th>\n",
       "      <td>Mammal</td>\n",
       "      <td>Sus scrofa</td>\n",
       "      <td>Feral Hog, Wild Pig</td>\n",
       "      <td>NaN</td>\n",
       "      <td>True</td>\n",
       "    </tr>\n",
       "    <tr>\n",
       "      <th>8</th>\n",
       "      <td>Mammal</td>\n",
       "      <td>Canis lupus</td>\n",
       "      <td>Gray Wolf</td>\n",
       "      <td>Endangered</td>\n",
       "      <td>True</td>\n",
       "    </tr>\n",
       "    <tr>\n",
       "      <th>10</th>\n",
       "      <td>Mammal</td>\n",
       "      <td>Urocyon cinereoargenteus</td>\n",
       "      <td>Common Gray Fox, Gray Fox</td>\n",
       "      <td>NaN</td>\n",
       "      <td>True</td>\n",
       "    </tr>\n",
       "    <tr>\n",
       "      <th>...</th>\n",
       "      <td>...</td>\n",
       "      <td>...</td>\n",
       "      <td>...</td>\n",
       "      <td>...</td>\n",
       "      <td>...</td>\n",
       "    </tr>\n",
       "    <tr>\n",
       "      <th>5619</th>\n",
       "      <td>Vascular Plant</td>\n",
       "      <td>Panicum rigidulum var. rigidulum</td>\n",
       "      <td>Redtop Panicgrass, Redtop Panicum</td>\n",
       "      <td>NaN</td>\n",
       "      <td>True</td>\n",
       "    </tr>\n",
       "    <tr>\n",
       "      <th>5638</th>\n",
       "      <td>Vascular Plant</td>\n",
       "      <td>Setaria pumila</td>\n",
       "      <td>Cattail Grass, Yellow Bristle Grass, Yellow Br...</td>\n",
       "      <td>NaN</td>\n",
       "      <td>True</td>\n",
       "    </tr>\n",
       "    <tr>\n",
       "      <th>5640</th>\n",
       "      <td>Vascular Plant</td>\n",
       "      <td>Vulpia bromoides</td>\n",
       "      <td>Brome Fescue, Brome Six-Weeks Grass, Desert Fe...</td>\n",
       "      <td>NaN</td>\n",
       "      <td>True</td>\n",
       "    </tr>\n",
       "    <tr>\n",
       "      <th>5643</th>\n",
       "      <td>Vascular Plant</td>\n",
       "      <td>Vulpia myuros</td>\n",
       "      <td>Foxtail Fescue, Rattail Fescue, Rat-Tail Fescu...</td>\n",
       "      <td>NaN</td>\n",
       "      <td>True</td>\n",
       "    </tr>\n",
       "    <tr>\n",
       "      <th>5750</th>\n",
       "      <td>Vascular Plant</td>\n",
       "      <td>Rosa eglanteria</td>\n",
       "      <td>Sweetbriar Rose</td>\n",
       "      <td>NaN</td>\n",
       "      <td>True</td>\n",
       "    </tr>\n",
       "  </tbody>\n",
       "</table>\n",
       "<p>557 rows × 5 columns</p>\n",
       "</div>"
      ],
      "text/plain": [
       "            category                   scientific_name  \\\n",
       "4             Mammal                    Cervus elaphus   \n",
       "5             Mammal            Odocoileus virginianus   \n",
       "6             Mammal                        Sus scrofa   \n",
       "8             Mammal                       Canis lupus   \n",
       "10            Mammal          Urocyon cinereoargenteus   \n",
       "...              ...                               ...   \n",
       "5619  Vascular Plant  Panicum rigidulum var. rigidulum   \n",
       "5638  Vascular Plant                    Setaria pumila   \n",
       "5640  Vascular Plant                  Vulpia bromoides   \n",
       "5643  Vascular Plant                     Vulpia myuros   \n",
       "5750  Vascular Plant                   Rosa eglanteria   \n",
       "\n",
       "                                           common_names conservation_status  \\\n",
       "4                                         Wapiti Or Elk                 NaN   \n",
       "5                                     White-Tailed Deer                 NaN   \n",
       "6                                   Feral Hog, Wild Pig                 NaN   \n",
       "8                                             Gray Wolf          Endangered   \n",
       "10                            Common Gray Fox, Gray Fox                 NaN   \n",
       "...                                                 ...                 ...   \n",
       "5619                  Redtop Panicgrass, Redtop Panicum                 NaN   \n",
       "5638  Cattail Grass, Yellow Bristle Grass, Yellow Br...                 NaN   \n",
       "5640  Brome Fescue, Brome Six-Weeks Grass, Desert Fe...                 NaN   \n",
       "5643  Foxtail Fescue, Rattail Fescue, Rat-Tail Fescu...                 NaN   \n",
       "5750                                    Sweetbriar Rose                 NaN   \n",
       "\n",
       "      dup_scientific_name  \n",
       "4                    True  \n",
       "5                    True  \n",
       "6                    True  \n",
       "8                    True  \n",
       "10                   True  \n",
       "...                   ...  \n",
       "5619                 True  \n",
       "5638                 True  \n",
       "5640                 True  \n",
       "5643                 True  \n",
       "5750                 True  \n",
       "\n",
       "[557 rows x 5 columns]"
      ]
     },
     "execution_count": 347,
     "metadata": {},
     "output_type": "execute_result"
    }
   ],
   "source": [
    "# It appears that scientific name is common between two csv files/datasets. Let's count how many unique scientific names are in species dataframe\n",
    "# and see if it matches total count of rows. If it does, it probably indicates that the species_info file is a database of all distinct species names. \n",
    "\n",
    "print(species.scientific_name.value_counts(dropna=False))\n",
    "print(species.scientific_name.count()) # This is the total count of scientific_names \n",
    "species[species.scientific_name=='Castor canadensis'] # This is an example of a duplicate\n",
    "# explore duplicated values \n",
    "species['dup_scientific_name']= species.scientific_name.duplicated(False)\n",
    "species[species.dup_scientific_name == True]\n",
    "#This showed that scientific name is duplicated when multiple common names exist for the same species\n"
   ]
  },
  {
   "cell_type": "code",
   "execution_count": 348,
   "metadata": {},
   "outputs": [
    {
     "name": "stdout",
     "output_type": "stream",
     "text": [
      "Brachythecium Moss                                                            7\n",
      "Dicranum Moss                                                                 7\n",
      "Panic Grass                                                                   6\n",
      "Bryum Moss                                                                    6\n",
      "Sphagnum                                                                      6\n",
      "                                                                             ..\n",
      "Pine                                                                          1\n",
      "Red Spruce                                                                    1\n",
      "Norway Spruce                                                                 1\n",
      "Fraser Fir                                                                    1\n",
      "Bullhead, Caltrop, Goathead, Mexican Sandbur, Puncture Vine, Texas Sandbur    1\n",
      "Name: common_names, Length: 5504, dtype: int64\n"
     ]
    }
   ],
   "source": [
    "#Now let's look at the duplicates in the common_names column...\n",
    "\n",
    "species['dup_common_name'] =species.common_names.duplicated(False)\n",
    "print(species.common_names.value_counts(dropna=False)) \n",
    "# There are duplicates in the common_names as well. \n",
    "# Let's see the data to understand if they're typos.\n"
   ]
  },
  {
   "cell_type": "code",
   "execution_count": 349,
   "metadata": {},
   "outputs": [],
   "source": [
    "duplicates_common_name = species[(species.dup_common_name == True) ]\n",
    "duplicates_scientific_name = species[(species.dup_scientific_name == True) ]"
   ]
  },
  {
   "cell_type": "code",
   "execution_count": 350,
   "metadata": {},
   "outputs": [
    {
     "name": "stdout",
     "output_type": "stream",
     "text": [
      "4\n",
      "[nan 'Species of Concern' 'Endangered' 'Threatened' 'In Recovery']\n",
      "\n",
      "\n",
      "7\n",
      "['Mammal' 'Bird' 'Reptile' 'Amphibian' 'Fish' 'Vascular Plant'\n",
      " 'Nonvascular Plant']\n",
      "\n",
      "\n",
      "category               category\n",
      "scientific_name          object\n",
      "common_names             object\n",
      "conservation_status    category\n",
      "dup_scientific_name        bool\n",
      "dup_common_name            bool\n",
      "dtype: object\n",
      "\n",
      "\n",
      "scientific_name    object\n",
      "park_name          object\n",
      "observations        int64\n",
      "dtype: object\n"
     ]
    },
    {
     "data": {
      "text/plain": [
       "84     220\n",
       "85     210\n",
       "91     206\n",
       "92     203\n",
       "95     202\n",
       "      ... \n",
       "9        1\n",
       "321      1\n",
       "303      1\n",
       "314      1\n",
       "310      1\n",
       "Name: observations, Length: 304, dtype: int64"
      ]
     },
     "execution_count": 350,
     "metadata": {},
     "output_type": "execute_result"
    }
   ],
   "source": [
    "# category, and conservation_status columns are categorical data so let's dig into them and see if there are any categorical names that has a typo\n",
    "#  and if we can quickly clean that up. First let's count unique/distinct values\n",
    "print(species.conservation_status.nunique()) # There are 4 distinct statuses\n",
    "print(species.conservation_status.unique())\n",
    "\n",
    "print('\\n');print(species.category.nunique())# There are 7 distinct categories\n",
    "print(species.category.unique())\n",
    "\n",
    "#need to associate a ranking to differnet levels of conservation status\n",
    "# per https://www.iucnredlist.org/ and ranking is as follows: \n",
    "# Not Evaluated, Data Deficient, Least Concern, Near Threatened, Vulnerable, Endangered, Critically Endangered, Extinct in the Wild and Extinct.\n",
    "# Dataset shall have the following order: In Recovery< Species of Concern <Threatened < Endangered\n",
    "#CategoricalDtype() # Another way to convert type to categorical, but prefer using pandas method Categorical in this project to prevent unnecessary library import\n",
    "species['conservation_status'] = pd.Categorical(values= species.conservation_status, categories=['In Recovery', 'Species of Concern', 'Threatened', 'Endangered'], ordered = True)\n",
    "species['category'] =pd.Categorical(values= species.category,categories=['Mammal', 'Bird', 'Reptile', 'Amphibian', 'Fish' ,'Vascular Plant','Nonvascular Plant'])\n",
    "\n",
    "print('\\n'); print(species.dtypes)\n",
    "\n",
    "# observation seems to be a numerical value, so let's convert that to an integer, since it's a count.\n",
    "observations.observations.astype('int')\n",
    "print('\\n'); print(observations.dtypes)\n",
    "observations.observations.value_counts() \n"
   ]
  },
  {
   "cell_type": "code",
   "execution_count": 351,
   "metadata": {},
   "outputs": [
    {
     "name": "stdout",
     "output_type": "stream",
     "text": [
      "  scientific_name common_name\n",
      "0          birdus        bird\n",
      "1          birdus      birdie\n",
      "2           felix         cat\n",
      "3           felix       kitty\n",
      "4           canis         dog\n",
      "5           canis       puppy\n",
      "6    Panthera leo        lion\n",
      "\n",
      "\n",
      "  scientific_name national_park  observations\n",
      "0          birdus      Yosemite             3\n",
      "1           felix   Yellowstone             2\n",
      "2           canis         Rocky             5\n",
      "3          birdus   Yellowstone             6\n",
      "4          birdus         Rocky             7\n",
      "5           canis      Yosemite            10\n"
     ]
    }
   ],
   "source": [
    "#testing how to merge with duplicated scientific_names as that is the available common name between 2 datasets\n",
    "test_species = pd.DataFrame({\n",
    "    'scientific_name':['birdus','birdus','felix','felix','canis','canis','Panthera leo'],\n",
    "    'common_name':['bird','birdie','cat','kitty','dog','puppy','lion']\n",
    "})\n",
    "test_observations = pd.DataFrame({\n",
    "    'scientific_name': ['birdus','felix','canis','birdus','birdus','canis'],\n",
    "    'national_park': ['Yosemite','Yellowstone','Rocky','Yellowstone','Rocky','Yosemite'],\n",
    "    'observations': [3,2,5,6,7,10]\n",
    "})\n",
    "print(test_species);print('\\n');print(test_observations)"
   ]
  },
  {
   "cell_type": "code",
   "execution_count": 352,
   "metadata": {},
   "outputs": [],
   "source": [
    "left= pd.merge(test_observations,test_species,how='left',on='scientific_name')\n",
    "right= pd.merge(test_observations,test_species,how='right',on='scientific_name')\n",
    "outer= pd.merge(test_observations,test_species,how='outer',on='scientific_name')\n",
    "inner= pd.merge(test_observations,test_species,how='inner',on='scientific_name')\n",
    "cross= pd.merge(test_observations,test_species,how='cross')\n",
    "#based on this test, we should do a left merge on the actual dataset"
   ]
  },
  {
   "cell_type": "code",
   "execution_count": 353,
   "metadata": {},
   "outputs": [
    {
     "name": "stdout",
     "output_type": "stream",
     "text": [
      "5541\n",
      "5541\n"
     ]
    }
   ],
   "source": [
    "print(observations.scientific_name.nunique())\n",
    "# There are 5541 unique species in the observations dataset\n",
    "print(species.scientific_name.nunique())\n",
    "# There are 5541 unique species in the species dataset\n",
    "\n",
    "# This means that it will likely be a 1:1 match once we merge two datasets together. \n",
    "# Left merge is used on the scientific_name column as that's the only shared column between the tables.\n",
    "df=pd.merge(observations,species,how='left',on='scientific_name')\n",
    "df.drop(columns=['dup_common_name','dup_scientific_name','common_names'],inplace=True)"
   ]
  },
  {
   "cell_type": "code",
   "execution_count": 354,
   "metadata": {},
   "outputs": [
    {
     "data": {
      "text/html": [
       "<div>\n",
       "<style scoped>\n",
       "    .dataframe tbody tr th:only-of-type {\n",
       "        vertical-align: middle;\n",
       "    }\n",
       "\n",
       "    .dataframe tbody tr th {\n",
       "        vertical-align: top;\n",
       "    }\n",
       "\n",
       "    .dataframe thead th {\n",
       "        text-align: right;\n",
       "    }\n",
       "</style>\n",
       "<table border=\"1\" class=\"dataframe\">\n",
       "  <thead>\n",
       "    <tr style=\"text-align: right;\">\n",
       "      <th></th>\n",
       "      <th></th>\n",
       "      <th></th>\n",
       "      <th>observations</th>\n",
       "    </tr>\n",
       "    <tr>\n",
       "      <th>park_name</th>\n",
       "      <th>category</th>\n",
       "      <th>scientific_name</th>\n",
       "      <th></th>\n",
       "    </tr>\n",
       "  </thead>\n",
       "  <tbody>\n",
       "    <tr>\n",
       "      <th rowspan=\"5\" valign=\"top\">Bryce National Park</th>\n",
       "      <th rowspan=\"5\" valign=\"top\">Mammal</th>\n",
       "      <th>Alces alces</th>\n",
       "      <td>101</td>\n",
       "    </tr>\n",
       "    <tr>\n",
       "      <th>Alces alces shirasi</th>\n",
       "      <td>81</td>\n",
       "    </tr>\n",
       "    <tr>\n",
       "      <th>Antilocapra americana</th>\n",
       "      <td>98</td>\n",
       "    </tr>\n",
       "    <tr>\n",
       "      <th>Antrozous pallidus</th>\n",
       "      <td>67</td>\n",
       "    </tr>\n",
       "    <tr>\n",
       "      <th>Aplodontia rufa californica</th>\n",
       "      <td>78</td>\n",
       "    </tr>\n",
       "    <tr>\n",
       "      <th>...</th>\n",
       "      <th>...</th>\n",
       "      <th>...</th>\n",
       "      <td>...</td>\n",
       "    </tr>\n",
       "    <tr>\n",
       "      <th rowspan=\"5\" valign=\"top\">Yosemite National Park</th>\n",
       "      <th rowspan=\"5\" valign=\"top\">Nonvascular Plant</th>\n",
       "      <th>Ulota hutchinsiae</th>\n",
       "      <td>145</td>\n",
       "    </tr>\n",
       "    <tr>\n",
       "      <th>Ulota hutchinsiae var. rufescens</th>\n",
       "      <td>166</td>\n",
       "    </tr>\n",
       "    <tr>\n",
       "      <th>Weissia controversa</th>\n",
       "      <td>141</td>\n",
       "    </tr>\n",
       "    <tr>\n",
       "      <th>Zygodon viridissimus</th>\n",
       "      <td>159</td>\n",
       "    </tr>\n",
       "    <tr>\n",
       "      <th>Zygodon viridissimus var. rupestris</th>\n",
       "      <td>210</td>\n",
       "    </tr>\n",
       "  </tbody>\n",
       "</table>\n",
       "<p>22164 rows × 1 columns</p>\n",
       "</div>"
      ],
      "text/plain": [
       "                                                                              observations\n",
       "park_name              category          scientific_name                                  \n",
       "Bryce National Park    Mammal            Alces alces                                   101\n",
       "                                         Alces alces shirasi                            81\n",
       "                                         Antilocapra americana                          98\n",
       "                                         Antrozous pallidus                             67\n",
       "                                         Aplodontia rufa californica                    78\n",
       "...                                                                                    ...\n",
       "Yosemite National Park Nonvascular Plant Ulota hutchinsiae                             145\n",
       "                                         Ulota hutchinsiae var. rufescens              166\n",
       "                                         Weissia controversa                           141\n",
       "                                         Zygodon viridissimus                          159\n",
       "                                         Zygodon viridissimus var. rupestris           210\n",
       "\n",
       "[22164 rows x 1 columns]"
      ]
     },
     "execution_count": 354,
     "metadata": {},
     "output_type": "execute_result"
    }
   ],
   "source": [
    "#let's gather some quick stats\n",
    "#df.head()\n",
    "#df=df[df.scientific_name == 'Agrostis capillaris']\n",
    "#df=df[df.park_name == 'Great Smoky Mountains National Park']\n",
    "df.drop_duplicates(inplace=True)\n",
    "\n",
    "df_grouped= df.groupby(['park_name','category','scientific_name']).sum()\n",
    "df_grouped= df_grouped[df_grouped.observations != 0]\n",
    "df_grouped\n",
    "#df.head()"
   ]
  },
  {
   "cell_type": "code",
   "execution_count": 355,
   "metadata": {},
   "outputs": [
    {
     "data": {
      "text/plain": [
       "<AxesSubplot:xlabel='park_name', ylabel='observations'>"
      ]
     },
     "execution_count": 355,
     "metadata": {},
     "output_type": "execute_result"
    },
    {
     "data": {
      "image/png": "[encoded data removed]",
      "text/plain": [
       "<Figure size 640x480 with 1 Axes>"
      ]
     },
     "metadata": {},
     "output_type": "display_data"
    }
   ],
   "source": [
    "sns.barplot(x='park_name', y='observations',data=observations)"
   ]
  },
  {
   "cell_type": "code",
   "execution_count": 379,
   "metadata": {},
   "outputs": [
    {
     "data": {
      "text/plain": [
       "<AxesSubplot:xlabel='category', ylabel='observations'>"
      ]
     },
     "execution_count": 379,
     "metadata": {},
     "output_type": "execute_result"
    },
    {
     "data": {
      "image/png": "[encoded data removed]",
      "text/plain": [
       "<Figure size 640x480 with 1 Axes>"
      ]
     },
     "metadata": {},
     "output_type": "display_data"
    }
   ],
   "source": [
    "\n",
    "sns.barplot(x='category', y='observations',hue='park_name',data=df)\n"
   ]
  },
  {
   "cell_type": "code",
   "execution_count": 357,
   "metadata": {},
   "outputs": [
    {
     "data": {
      "text/plain": [
       "park_name\n",
       "Bryce National Park                    5828\n",
       "Great Smoky Mountains National Park    5823\n",
       "Yellowstone National Park              5824\n",
       "Yosemite National Park                 5826\n",
       "dtype: int64"
      ]
     },
     "execution_count": 357,
     "metadata": {},
     "output_type": "execute_result"
    }
   ],
   "source": [
    "# How many different species in each park? There are more than 5820 species in each park.\n",
    "df_size= df.groupby('park_name').size()\n",
    "#df_size= df_size[df_size.observations != 0]\n",
    "df_size\n",
    "#sns.countplot(x='',y='',data=df_grouped,)"
   ]
  },
  {
   "cell_type": "code",
   "execution_count": 406,
   "metadata": {},
   "outputs": [
    {
     "data": {
      "text/html": [
       "<div>\n",
       "<style scoped>\n",
       "    .dataframe tbody tr th:only-of-type {\n",
       "        vertical-align: middle;\n",
       "    }\n",
       "\n",
       "    .dataframe tbody tr th {\n",
       "        vertical-align: top;\n",
       "    }\n",
       "\n",
       "    .dataframe thead th {\n",
       "        text-align: right;\n",
       "    }\n",
       "</style>\n",
       "<table border=\"1\" class=\"dataframe\">\n",
       "  <thead>\n",
       "    <tr style=\"text-align: right;\">\n",
       "      <th></th>\n",
       "      <th>min</th>\n",
       "      <th>max</th>\n",
       "      <th>mean</th>\n",
       "      <th>sum</th>\n",
       "    </tr>\n",
       "    <tr>\n",
       "      <th>park_name</th>\n",
       "      <th></th>\n",
       "      <th></th>\n",
       "      <th></th>\n",
       "      <th></th>\n",
       "    </tr>\n",
       "  </thead>\n",
       "  <tbody>\n",
       "    <tr>\n",
       "      <th>Bryce National Park</th>\n",
       "      <td>9</td>\n",
       "      <td>176</td>\n",
       "      <td>98.866678</td>\n",
       "      <td>576195</td>\n",
       "    </tr>\n",
       "    <tr>\n",
       "      <th>Great Smoky Mountains National Park</th>\n",
       "      <td>10</td>\n",
       "      <td>147</td>\n",
       "      <td>74.109050</td>\n",
       "      <td>431537</td>\n",
       "    </tr>\n",
       "    <tr>\n",
       "      <th>Yellowstone National Park</th>\n",
       "      <td>57</td>\n",
       "      <td>321</td>\n",
       "      <td>247.770604</td>\n",
       "      <td>1443016</td>\n",
       "    </tr>\n",
       "    <tr>\n",
       "      <th>Yosemite National Park</th>\n",
       "      <td>31</td>\n",
       "      <td>223</td>\n",
       "      <td>148.164950</td>\n",
       "      <td>863209</td>\n",
       "    </tr>\n",
       "  </tbody>\n",
       "</table>\n",
       "</div>"
      ],
      "text/plain": [
       "                                     min  max        mean      sum\n",
       "park_name                                                         \n",
       "Bryce National Park                    9  176   98.866678   576195\n",
       "Great Smoky Mountains National Park   10  147   74.109050   431537\n",
       "Yellowstone National Park             57  321  247.770604  1443016\n",
       "Yosemite National Park                31  223  148.164950   863209"
      ]
     },
     "execution_count": 406,
     "metadata": {},
     "output_type": "execute_result"
    }
   ],
   "source": [
    "#How many species on average in each park?\n",
    "df_group_1 = df.groupby('park_name').observations.aggregate(['min', 'max','mean','sum'])\n",
    "df_group_1\n",
    "#df[df.scientific_name=='Agrostis capillaris'] # This is a test filter"
   ]
  },
  {
   "cell_type": "code",
   "execution_count": 376,
   "metadata": {},
   "outputs": [
    {
     "data": {
      "text/html": [
       "<div>\n",
       "<style scoped>\n",
       "    .dataframe tbody tr th:only-of-type {\n",
       "        vertical-align: middle;\n",
       "    }\n",
       "\n",
       "    .dataframe tbody tr th {\n",
       "        vertical-align: top;\n",
       "    }\n",
       "\n",
       "    .dataframe thead th {\n",
       "        text-align: right;\n",
       "    }\n",
       "</style>\n",
       "<table border=\"1\" class=\"dataframe\">\n",
       "  <thead>\n",
       "    <tr style=\"text-align: right;\">\n",
       "      <th></th>\n",
       "      <th>sum</th>\n",
       "    </tr>\n",
       "    <tr>\n",
       "      <th>scientific_name</th>\n",
       "      <th></th>\n",
       "    </tr>\n",
       "  </thead>\n",
       "  <tbody>\n",
       "    <tr>\n",
       "      <th>Holcus lanatus</th>\n",
       "      <td>1780</td>\n",
       "    </tr>\n",
       "    <tr>\n",
       "      <th>Castor canadensis</th>\n",
       "      <td>1725</td>\n",
       "    </tr>\n",
       "    <tr>\n",
       "      <th>Hypochaeris radicata</th>\n",
       "      <td>1720</td>\n",
       "    </tr>\n",
       "    <tr>\n",
       "      <th>Puma concolor</th>\n",
       "      <td>1711</td>\n",
       "    </tr>\n",
       "    <tr>\n",
       "      <th>Procyon lotor</th>\n",
       "      <td>1692</td>\n",
       "    </tr>\n",
       "    <tr>\n",
       "      <th>Columba livia</th>\n",
       "      <td>1653</td>\n",
       "    </tr>\n",
       "    <tr>\n",
       "      <th>Oncorhynchus mykiss</th>\n",
       "      <td>1626</td>\n",
       "    </tr>\n",
       "    <tr>\n",
       "      <th>Myotis lucifugus</th>\n",
       "      <td>1547</td>\n",
       "    </tr>\n",
       "    <tr>\n",
       "      <th>Streptopelia decaocto</th>\n",
       "      <td>1530</td>\n",
       "    </tr>\n",
       "    <tr>\n",
       "      <th>Canis lupus</th>\n",
       "      <td>1430</td>\n",
       "    </tr>\n",
       "  </tbody>\n",
       "</table>\n",
       "</div>"
      ],
      "text/plain": [
       "                        sum\n",
       "scientific_name            \n",
       "Holcus lanatus         1780\n",
       "Castor canadensis      1725\n",
       "Hypochaeris radicata   1720\n",
       "Puma concolor          1711\n",
       "Procyon lotor          1692\n",
       "Columba livia          1653\n",
       "Oncorhynchus mykiss    1626\n",
       "Myotis lucifugus       1547\n",
       "Streptopelia decaocto  1530\n",
       "Canis lupus            1430"
      ]
     },
     "execution_count": 376,
     "metadata": {},
     "output_type": "execute_result"
    }
   ],
   "source": [
    "#What is the top 5 most observed species?\n",
    "df_sorted=df.sort_values('observations',ascending=False,ignore_index=True)\n",
    "df_sorted=df_sorted.iloc[:10]\n",
    "\n",
    "df_group_2= df.groupby(['scientific_name']).observations.aggregate(['sum'])\n",
    "df_group_2.sort_values('sum',ascending=False,inplace=True)\n",
    "df_group_2.iloc[:10]"
   ]
  },
  {
   "cell_type": "code",
   "execution_count": null,
   "metadata": {},
   "outputs": [],
   "source": []
  }
 ],
 "metadata": {
  "kernelspec": {
   "display_name": "Python 3.10.4 ('machine-learning-env')",
   "language": "python",
   "name": "python3"
  },
  "language_info": {
   "codemirror_mode": {
    "name": "ipython",
    "version": 3
   },
   "file_extension": ".py",
   "mimetype": "text/x-python",
   "name": "python",
   "nbconvert_exporter": "python",
   "pygments_lexer": "ipython3",
   "version": "3.10.4"
  },
  "vscode": {
   "interpreter": {
    "hash": "73377df2183f369987af4d0c78b7a8bf94e96ddaeb54f8a6c12d927b854c75ae"
   }
  }
 },
 "nbformat": 4,
 "nbformat_minor": 4
}
