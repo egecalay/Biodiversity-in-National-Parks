{
 "cells": [
  {
   "cell_type": "markdown",
   "metadata": {},
   "source": [
    "### Project Introduction\n",
    "\n",
    "The data in this project focuses on numbers of species across 4 major national parks in the United States.\n",
    "\n",
    "This project will attempt to answer the following questions from the data provided by National Parks Service.\n",
    "\n",
    "1. Which species appear in which park the most?\n",
    "2. Is there a significant difference between species and their conservation status?\n",
    "3. Are certain types of species more likely to be endangered? "
   ]
  },
  {
   "cell_type": "markdown",
   "metadata": {},
   "source": [
    "### Import libraries, Loading Data, Getting Familiar "
   ]
  },
  {
   "cell_type": "code",
   "execution_count": 171,
   "metadata": {},
   "outputs": [],
   "source": [
    "#Import required libraries\n",
    "import numpy as np\n",
    "import pandas as pd\n",
    "import matplotlib.pyplot as plt\n",
    "import seaborn as sns\n",
    "\n"
   ]
  },
  {
   "cell_type": "code",
   "execution_count": 172,
   "metadata": {},
   "outputs": [],
   "source": [
    "#load the data from the provided 'species_info' and 'observation' csv files\n",
    "species = pd.read_csv('species_info.csv')\n",
    "observations = pd.read_csv('observations.csv')\n"
   ]
  },
  {
   "cell_type": "code",
   "execution_count": 173,
   "metadata": {},
   "outputs": [
    {
     "name": "stdout",
     "output_type": "stream",
     "text": [
      "Index(['category', 'scientific_name', 'common_names', 'conservation_status'], dtype='object')\n",
      "Index(['scientific_name', 'park_name', 'observations'], dtype='object')\n"
     ]
    }
   ],
   "source": [
    "print(species.columns)\n",
    "print(observations.columns)"
   ]
  },
  {
   "cell_type": "markdown",
   "metadata": {},
   "source": [
    "### Dealing with Missing Data"
   ]
  },
  {
   "cell_type": "code",
   "execution_count": 174,
   "metadata": {},
   "outputs": [
    {
     "name": "stdout",
     "output_type": "stream",
     "text": [
      "<class 'pandas.core.frame.DataFrame'>\n",
      "RangeIndex: 23296 entries, 0 to 23295\n",
      "Data columns (total 3 columns):\n",
      " #   Column           Non-Null Count  Dtype \n",
      "---  ------           --------------  ----- \n",
      " 0   scientific_name  23296 non-null  object\n",
      " 1   park_name        23296 non-null  object\n",
      " 2   observations     23296 non-null  int64 \n",
      "dtypes: int64(1), object(2)None\n",
      "\n",
      "\n",
      "<class 'pandas.core.frame.DataFrame'>\n",
      "RangeIndex: 5824 entries, 0 to 5823\n",
      "Data columns (total 4 columns):\n",
      " #   Column               Non-Null Count  Dtype \n",
      "---  ------               --------------  ----- \n",
      " 0   category             5824 non-null   object\n",
      " 1   scientific_name      5824 non-null   object\n",
      " 2   common_names         5824 non-null   object\n",
      " 3   conservation_status  191 non-null    object\n",
      "dtypes: object(4)None\n"
     ]
    }
   ],
   "source": [
    "# check how many null values exist: \n",
    "# what are different data types in the data set?\n",
    "\n",
    "print(observations.info(memory_usage= False))\n",
    "print('\\n')\n",
    "print(species.info(memory_usage= False))\n",
    "\n",
    "# 5824-191 = 5633: There are 5633 missing(null) rows in the conversation status.\n"
   ]
  },
  {
   "cell_type": "code",
   "execution_count": 175,
   "metadata": {},
   "outputs": [
    {
     "name": "stdout",
     "output_type": "stream",
     "text": [
      "            category                   scientific_name  \\\n",
      "7             Mammal                     Canis latrans   \n",
      "8             Mammal                       Canis lupus   \n",
      "9             Mammal                       Canis rufus   \n",
      "29            Mammal                  Eptesicus fuscus   \n",
      "30            Mammal         Lasionycteris noctivagans   \n",
      "...              ...                               ...   \n",
      "5302  Vascular Plant             Callitriche marginata   \n",
      "5399  Vascular Plant  Camissonia sierrae ssp. alticola   \n",
      "5426  Vascular Plant                Epilobium oreganum   \n",
      "5436  Vascular Plant              Botrychium ascendens   \n",
      "5676  Vascular Plant                  Romneya coulteri   \n",
      "\n",
      "                                           common_names conservation_status  \n",
      "7                                                Coyote  Species of Concern  \n",
      "8                                             Gray Wolf          Endangered  \n",
      "9                                              Red Wolf          Endangered  \n",
      "29                                        Big Brown Bat  Species of Concern  \n",
      "30                                    Silver-Haired Bat  Species of Concern  \n",
      "...                                                 ...                 ...  \n",
      "5302                              Winged Water-Starwort  Species of Concern  \n",
      "5399  Mono Hot Springs Evening Primrose, Mono Hot Sp...  Species of Concern  \n",
      "5426            Grants Pass Willowherb, Oregon Fireweed  Species of Concern  \n",
      "5436            Trianglelobe Moonwort, Upswept Moonwort  Species of Concern  \n",
      "5676                           Coulter's Matilija Poppy  Species of Concern  \n",
      "\n",
      "[191 rows x 4 columns]\n",
      "            category                scientific_name  \\\n",
      "0             Mammal  Clethrionomys gapperi gapperi   \n",
      "1             Mammal                      Bos bison   \n",
      "2             Mammal                     Bos taurus   \n",
      "3             Mammal                     Ovis aries   \n",
      "4             Mammal                 Cervus elaphus   \n",
      "...              ...                            ...   \n",
      "5819  Vascular Plant               Solanum parishii   \n",
      "5820  Vascular Plant                  Solanum xanti   \n",
      "5821  Vascular Plant         Parthenocissus vitacea   \n",
      "5822  Vascular Plant              Vitis californica   \n",
      "5823  Vascular Plant            Tribulus terrestris   \n",
      "\n",
      "                                           common_names conservation_status  \n",
      "0                              Gapper's Red-Backed Vole                 NaN  \n",
      "1                                 American Bison, Bison                 NaN  \n",
      "2     Aurochs, Aurochs, Domestic Cattle (Feral), Dom...                 NaN  \n",
      "3     Domestic Sheep, Mouflon, Red Sheep, Sheep (Feral)                 NaN  \n",
      "4                                         Wapiti Or Elk                 NaN  \n",
      "...                                                 ...                 ...  \n",
      "5819                                Parish's Nightshade                 NaN  \n",
      "5820            Chaparral Nightshade, Purple Nightshade                 NaN  \n",
      "5821        Thicket Creeper, Virginia Creeper, Woodbine                 NaN  \n",
      "5822            California Grape, California Wild Grape                 NaN  \n",
      "5823  Bullhead, Caltrop, Goathead, Mexican Sandbur, ...                 NaN  \n",
      "\n",
      "[5633 rows x 4 columns]\n"
     ]
    },
    {
     "data": {
      "text/plain": [
       "NaN                   5633\n",
       "Species of Concern     161\n",
       "Endangered              16\n",
       "Threatened              10\n",
       "In Recovery              4\n",
       "Name: conservation_status, dtype: int64"
      ]
     },
     "execution_count": 175,
     "metadata": {},
     "output_type": "execute_result"
    }
   ],
   "source": [
    "# Let's look at if missing data is systematic or if it's random before we try to deal with it.\n",
    "print(species[species.conservation_status.notnull()])\n",
    "print(species[species.conservation_status.isnull()])\n",
    "species.conservation_status.value_counts(dropna=False)\n",
    "\n"
   ]
  },
  {
   "cell_type": "code",
   "execution_count": 176,
   "metadata": {},
   "outputs": [
    {
     "name": "stdout",
     "output_type": "stream",
     "text": [
      "Not Applicable        5633\n",
      "Species of Concern     161\n",
      "Endangered              16\n",
      "Threatened              10\n",
      "In Recovery              4\n",
      "Name: conservation_status, dtype: int64\n"
     ]
    }
   ],
   "source": [
    "# It appears that the missing rows are structurally missing data.\n",
    "# The reason why the data is missing in the conservation status column is presumably,\n",
    "# because the species in question is not under any conservation\n",
    "species.conservation_status.fillna('Not Applicable',inplace=True)\n",
    "print(species.conservation_status.value_counts(dropna=False))"
   ]
  },
  {
   "cell_type": "code",
   "execution_count": 177,
   "metadata": {},
   "outputs": [
    {
     "name": "stdout",
     "output_type": "stream",
     "text": [
      "Castor canadensis            3\n",
      "Canis lupus                  3\n",
      "Hypochaeris radicata         3\n",
      "Columba livia                3\n",
      "Puma concolor                3\n",
      "                            ..\n",
      "Carex                        1\n",
      "Hexastylis shuttleworthii    1\n",
      "Hexastylis heterophylla      1\n",
      "Hexastylis arifolia          1\n",
      "Tribulus terrestris          1\n",
      "Name: scientific_name, Length: 5541, dtype: int64\n",
      "5824\n"
     ]
    },
    {
     "data": {
      "text/html": [
       "<div>\n",
       "<style scoped>\n",
       "    .dataframe tbody tr th:only-of-type {\n",
       "        vertical-align: middle;\n",
       "    }\n",
       "\n",
       "    .dataframe tbody tr th {\n",
       "        vertical-align: top;\n",
       "    }\n",
       "\n",
       "    .dataframe thead th {\n",
       "        text-align: right;\n",
       "    }\n",
       "</style>\n",
       "<table border=\"1\" class=\"dataframe\">\n",
       "  <thead>\n",
       "    <tr style=\"text-align: right;\">\n",
       "      <th></th>\n",
       "      <th>category</th>\n",
       "      <th>scientific_name</th>\n",
       "      <th>common_names</th>\n",
       "      <th>conservation_status</th>\n",
       "      <th>dup_scientific_name</th>\n",
       "    </tr>\n",
       "  </thead>\n",
       "  <tbody>\n",
       "    <tr>\n",
       "      <th>4</th>\n",
       "      <td>Mammal</td>\n",
       "      <td>Cervus elaphus</td>\n",
       "      <td>Wapiti Or Elk</td>\n",
       "      <td>Not Applicable</td>\n",
       "      <td>True</td>\n",
       "    </tr>\n",
       "    <tr>\n",
       "      <th>5</th>\n",
       "      <td>Mammal</td>\n",
       "      <td>Odocoileus virginianus</td>\n",
       "      <td>White-Tailed Deer</td>\n",
       "      <td>Not Applicable</td>\n",
       "      <td>True</td>\n",
       "    </tr>\n",
       "    <tr>\n",
       "      <th>6</th>\n",
       "      <td>Mammal</td>\n",
       "      <td>Sus scrofa</td>\n",
       "      <td>Feral Hog, Wild Pig</td>\n",
       "      <td>Not Applicable</td>\n",
       "      <td>True</td>\n",
       "    </tr>\n",
       "    <tr>\n",
       "      <th>8</th>\n",
       "      <td>Mammal</td>\n",
       "      <td>Canis lupus</td>\n",
       "      <td>Gray Wolf</td>\n",
       "      <td>Endangered</td>\n",
       "      <td>True</td>\n",
       "    </tr>\n",
       "    <tr>\n",
       "      <th>10</th>\n",
       "      <td>Mammal</td>\n",
       "      <td>Urocyon cinereoargenteus</td>\n",
       "      <td>Common Gray Fox, Gray Fox</td>\n",
       "      <td>Not Applicable</td>\n",
       "      <td>True</td>\n",
       "    </tr>\n",
       "    <tr>\n",
       "      <th>...</th>\n",
       "      <td>...</td>\n",
       "      <td>...</td>\n",
       "      <td>...</td>\n",
       "      <td>...</td>\n",
       "      <td>...</td>\n",
       "    </tr>\n",
       "    <tr>\n",
       "      <th>5619</th>\n",
       "      <td>Vascular Plant</td>\n",
       "      <td>Panicum rigidulum var. rigidulum</td>\n",
       "      <td>Redtop Panicgrass, Redtop Panicum</td>\n",
       "      <td>Not Applicable</td>\n",
       "      <td>True</td>\n",
       "    </tr>\n",
       "    <tr>\n",
       "      <th>5638</th>\n",
       "      <td>Vascular Plant</td>\n",
       "      <td>Setaria pumila</td>\n",
       "      <td>Cattail Grass, Yellow Bristle Grass, Yellow Br...</td>\n",
       "      <td>Not Applicable</td>\n",
       "      <td>True</td>\n",
       "    </tr>\n",
       "    <tr>\n",
       "      <th>5640</th>\n",
       "      <td>Vascular Plant</td>\n",
       "      <td>Vulpia bromoides</td>\n",
       "      <td>Brome Fescue, Brome Six-Weeks Grass, Desert Fe...</td>\n",
       "      <td>Not Applicable</td>\n",
       "      <td>True</td>\n",
       "    </tr>\n",
       "    <tr>\n",
       "      <th>5643</th>\n",
       "      <td>Vascular Plant</td>\n",
       "      <td>Vulpia myuros</td>\n",
       "      <td>Foxtail Fescue, Rattail Fescue, Rat-Tail Fescu...</td>\n",
       "      <td>Not Applicable</td>\n",
       "      <td>True</td>\n",
       "    </tr>\n",
       "    <tr>\n",
       "      <th>5750</th>\n",
       "      <td>Vascular Plant</td>\n",
       "      <td>Rosa eglanteria</td>\n",
       "      <td>Sweetbriar Rose</td>\n",
       "      <td>Not Applicable</td>\n",
       "      <td>True</td>\n",
       "    </tr>\n",
       "  </tbody>\n",
       "</table>\n",
       "<p>557 rows × 5 columns</p>\n",
       "</div>"
      ],
      "text/plain": [
       "            category                   scientific_name  \\\n",
       "4             Mammal                    Cervus elaphus   \n",
       "5             Mammal            Odocoileus virginianus   \n",
       "6             Mammal                        Sus scrofa   \n",
       "8             Mammal                       Canis lupus   \n",
       "10            Mammal          Urocyon cinereoargenteus   \n",
       "...              ...                               ...   \n",
       "5619  Vascular Plant  Panicum rigidulum var. rigidulum   \n",
       "5638  Vascular Plant                    Setaria pumila   \n",
       "5640  Vascular Plant                  Vulpia bromoides   \n",
       "5643  Vascular Plant                     Vulpia myuros   \n",
       "5750  Vascular Plant                   Rosa eglanteria   \n",
       "\n",
       "                                           common_names conservation_status  \\\n",
       "4                                         Wapiti Or Elk      Not Applicable   \n",
       "5                                     White-Tailed Deer      Not Applicable   \n",
       "6                                   Feral Hog, Wild Pig      Not Applicable   \n",
       "8                                             Gray Wolf          Endangered   \n",
       "10                            Common Gray Fox, Gray Fox      Not Applicable   \n",
       "...                                                 ...                 ...   \n",
       "5619                  Redtop Panicgrass, Redtop Panicum      Not Applicable   \n",
       "5638  Cattail Grass, Yellow Bristle Grass, Yellow Br...      Not Applicable   \n",
       "5640  Brome Fescue, Brome Six-Weeks Grass, Desert Fe...      Not Applicable   \n",
       "5643  Foxtail Fescue, Rattail Fescue, Rat-Tail Fescu...      Not Applicable   \n",
       "5750                                    Sweetbriar Rose      Not Applicable   \n",
       "\n",
       "      dup_scientific_name  \n",
       "4                    True  \n",
       "5                    True  \n",
       "6                    True  \n",
       "8                    True  \n",
       "10                   True  \n",
       "...                   ...  \n",
       "5619                 True  \n",
       "5638                 True  \n",
       "5640                 True  \n",
       "5643                 True  \n",
       "5750                 True  \n",
       "\n",
       "[557 rows x 5 columns]"
      ]
     },
     "execution_count": 177,
     "metadata": {},
     "output_type": "execute_result"
    }
   ],
   "source": [
    "# It appears that scientific name is common between two csv files/datasets. Let's count how many unique scientific names are in species dataframe\n",
    "# and see if it matches total count of rows. If it does, it probably indicates that the species_info file is a database of all distinct species names. \n",
    "\n",
    "print(species.scientific_name.value_counts(dropna=False))\n",
    "print(species.scientific_name.count()) # This is the total count of scientific_names \n",
    "species[species.scientific_name=='Castor canadensis'] # This is an example of a duplicate\n",
    "# explore duplicated values \n",
    "species['dup_scientific_name']= species.scientific_name.duplicated(False)\n",
    "species[species.dup_scientific_name == True]\n",
    "#This showed that scientific name is duplicated when multiple common names exist for the same species\n"
   ]
  },
  {
   "cell_type": "code",
   "execution_count": 178,
   "metadata": {},
   "outputs": [
    {
     "name": "stdout",
     "output_type": "stream",
     "text": [
      "Brachythecium Moss                                                            7\n",
      "Dicranum Moss                                                                 7\n",
      "Panic Grass                                                                   6\n",
      "Bryum Moss                                                                    6\n",
      "Sphagnum                                                                      6\n",
      "                                                                             ..\n",
      "Pine                                                                          1\n",
      "Red Spruce                                                                    1\n",
      "Norway Spruce                                                                 1\n",
      "Fraser Fir                                                                    1\n",
      "Bullhead, Caltrop, Goathead, Mexican Sandbur, Puncture Vine, Texas Sandbur    1\n",
      "Name: common_names, Length: 5504, dtype: int64\n"
     ]
    }
   ],
   "source": [
    "#Now let's look at the duplicates in the common_names column...\n",
    "\n",
    "species['dup_common_name'] =species.common_names.duplicated(False)\n",
    "print(species.common_names.value_counts(dropna=False)) \n",
    "# There are duplicates in the common_names as well. \n",
    "# Let's see the data to understand if they're typos.\n"
   ]
  },
  {
   "cell_type": "code",
   "execution_count": 179,
   "metadata": {},
   "outputs": [],
   "source": [
    "duplicates_common_name = species[(species.dup_common_name == True) ]\n",
    "duplicates_scientific_name = species[(species.dup_scientific_name == True) ]"
   ]
  },
  {
   "cell_type": "markdown",
   "metadata": {},
   "source": [
    "### Cleaning/Wranglig Data Types"
   ]
  },
  {
   "cell_type": "code",
   "execution_count": 180,
   "metadata": {},
   "outputs": [
    {
     "name": "stdout",
     "output_type": "stream",
     "text": [
      "5\n",
      "['Not Applicable' 'Species of Concern' 'Endangered' 'Threatened'\n",
      " 'In Recovery']\n",
      "\n",
      "\n",
      "7\n",
      "['Mammal' 'Bird' 'Reptile' 'Amphibian' 'Fish' 'Vascular Plant'\n",
      " 'Nonvascular Plant']\n",
      "\n",
      "\n",
      "category               category\n",
      "scientific_name          object\n",
      "common_names             object\n",
      "conservation_status    category\n",
      "dup_scientific_name        bool\n",
      "dup_common_name            bool\n",
      "dtype: object\n",
      "\n",
      "\n",
      "scientific_name    object\n",
      "park_name          object\n",
      "observations        int64\n",
      "dtype: object\n"
     ]
    },
    {
     "data": {
      "text/plain": [
       "84     220\n",
       "85     210\n",
       "91     206\n",
       "92     203\n",
       "95     202\n",
       "      ... \n",
       "9        1\n",
       "321      1\n",
       "303      1\n",
       "314      1\n",
       "310      1\n",
       "Name: observations, Length: 304, dtype: int64"
      ]
     },
     "execution_count": 180,
     "metadata": {},
     "output_type": "execute_result"
    }
   ],
   "source": [
    "# category, and conservation_status columns are categorical data so let's dig into them and see if there are any categorical names that has a typo\n",
    "# and if we can quickly clean that up. First let's count unique/distinct values\n",
    "print(species.conservation_status.nunique()) # There are 4 distinct statuses\n",
    "print(species.conservation_status.unique())\n",
    "\n",
    "print('\\n');print(species.category.nunique())# There are 7 distinct categories\n",
    "print(species.category.unique())\n",
    "\n",
    "#need to associate a ranking to differnet levels of conservation status\n",
    "# per https://www.iucnredlist.org/ and ranking is as follows: \n",
    "# Not Evaluated, Data Deficient, Least Concern, Near Threatened, Vulnerable, Endangered, Critically Endangered, Extinct in the Wild and Extinct.\n",
    "# Dataset shall have the following order: Species of Concern <Threatened < Endangered < In Recovery\n",
    "#CategoricalDtype() # Another way to convert type to categorical, but prefer using pandas method Categorical in this project to prevent unnecessary library import\n",
    "species['conservation_status'] = pd.Categorical(values= species.conservation_status, categories=['Not Applicable','Species of Concern', 'Threatened', 'Endangered','In Recovery'], ordered = True)\n",
    "species['category'] =pd.Categorical(values= species.category,categories=['Mammal', 'Bird', 'Reptile', 'Amphibian', 'Fish' ,'Vascular Plant','Nonvascular Plant'])\n",
    "\n",
    "print('\\n'); print(species.dtypes)\n",
    "\n",
    "# observation seems to be a numerical value, so let's convert that to an integer, since it's a count.\n",
    "observations.observations.astype('int')\n",
    "print('\\n'); print(observations.dtypes)\n",
    "observations.observations.value_counts() \n"
   ]
  },
  {
   "cell_type": "markdown",
   "metadata": {},
   "source": [
    "### Merging Dataframes"
   ]
  },
  {
   "cell_type": "code",
   "execution_count": 181,
   "metadata": {},
   "outputs": [
    {
     "name": "stdout",
     "output_type": "stream",
     "text": [
      "5541\n",
      "5541\n"
     ]
    }
   ],
   "source": [
    "print(observations.scientific_name.nunique())\n",
    "# There are 5541 unique species in the observations dataset\n",
    "print(species.scientific_name.nunique())\n",
    "# There are 5541 unique species in the species dataset\n",
    "\n",
    "# This means that it will likely be a 1:1 match once we merge two datasets together. \n",
    "# Left merge is used on the scientific_name column as that's the only shared column between the tables.\n",
    "df=pd.merge(observations,species,how='left',on='scientific_name')\n"
   ]
  },
  {
   "cell_type": "code",
   "execution_count": 182,
   "metadata": {},
   "outputs": [],
   "source": [
    "#let's clean the df dataframe\n",
    "df.drop(columns=['dup_common_name','dup_scientific_name','common_names'],inplace=True)\n",
    "df.drop_duplicates(inplace=True)\n"
   ]
  },
  {
   "cell_type": "markdown",
   "metadata": {},
   "source": [
    "### Descriptive Statistics\n",
    "Let's gather some quick stats\n",
    "1. How many different species in each park?\n",
    "2. How many species on average in each park?\n",
    "3. What is the top 10 most observed species across all national parks?\n",
    "4. Which national park has the most endangered species?\n",
    "5. Which category, on average, has the most endangered species?\n",
    "5. For each conservation status, what is the ratio of each species category? (pie chart) \n"
   ]
  },
  {
   "cell_type": "code",
   "execution_count": 183,
   "metadata": {},
   "outputs": [
    {
     "data": {
      "text/plain": [
       "park_name\n",
       "Bryce National Park                    5828\n",
       "Great Smoky Mountains National Park    5823\n",
       "Yellowstone National Park              5824\n",
       "Yosemite National Park                 5826\n",
       "dtype: int64"
      ]
     },
     "execution_count": 183,
     "metadata": {},
     "output_type": "execute_result"
    }
   ],
   "source": [
    "# 1. How many different species in each park? There are more than 5820 species in each park.\n",
    "df_size= df.groupby('park_name').size()\n",
    "#df_size= df_size[df_size.observations != 0]\n",
    "df_size\n",
    "#sns.countplot(x='',y='',data=df_grouped,)"
   ]
  },
  {
   "cell_type": "code",
   "execution_count": 184,
   "metadata": {},
   "outputs": [
    {
     "name": "stdout",
     "output_type": "stream",
     "text": [
      "\n",
      "Yellowstone has the highest number of species averaging around 250 different kinds.\n",
      "\n"
     ]
    },
    {
     "data": {
      "text/html": [
       "<div>\n",
       "<style scoped>\n",
       "    .dataframe tbody tr th:only-of-type {\n",
       "        vertical-align: middle;\n",
       "    }\n",
       "\n",
       "    .dataframe tbody tr th {\n",
       "        vertical-align: top;\n",
       "    }\n",
       "\n",
       "    .dataframe thead th {\n",
       "        text-align: right;\n",
       "    }\n",
       "</style>\n",
       "<table border=\"1\" class=\"dataframe\">\n",
       "  <thead>\n",
       "    <tr style=\"text-align: right;\">\n",
       "      <th></th>\n",
       "      <th>min</th>\n",
       "      <th>max</th>\n",
       "      <th>mean</th>\n",
       "      <th>sum</th>\n",
       "    </tr>\n",
       "    <tr>\n",
       "      <th>park_name</th>\n",
       "      <th></th>\n",
       "      <th></th>\n",
       "      <th></th>\n",
       "      <th></th>\n",
       "    </tr>\n",
       "  </thead>\n",
       "  <tbody>\n",
       "    <tr>\n",
       "      <th>Bryce National Park</th>\n",
       "      <td>9</td>\n",
       "      <td>176</td>\n",
       "      <td>98.866678</td>\n",
       "      <td>576195</td>\n",
       "    </tr>\n",
       "    <tr>\n",
       "      <th>Great Smoky Mountains National Park</th>\n",
       "      <td>10</td>\n",
       "      <td>147</td>\n",
       "      <td>74.109050</td>\n",
       "      <td>431537</td>\n",
       "    </tr>\n",
       "    <tr>\n",
       "      <th>Yellowstone National Park</th>\n",
       "      <td>57</td>\n",
       "      <td>321</td>\n",
       "      <td>247.770604</td>\n",
       "      <td>1443016</td>\n",
       "    </tr>\n",
       "    <tr>\n",
       "      <th>Yosemite National Park</th>\n",
       "      <td>31</td>\n",
       "      <td>223</td>\n",
       "      <td>148.164950</td>\n",
       "      <td>863209</td>\n",
       "    </tr>\n",
       "  </tbody>\n",
       "</table>\n",
       "</div>"
      ],
      "text/plain": [
       "                                     min  max        mean      sum\n",
       "park_name                                                         \n",
       "Bryce National Park                    9  176   98.866678   576195\n",
       "Great Smoky Mountains National Park   10  147   74.109050   431537\n",
       "Yellowstone National Park             57  321  247.770604  1443016\n",
       "Yosemite National Park                31  223  148.164950   863209"
      ]
     },
     "execution_count": 184,
     "metadata": {},
     "output_type": "execute_result"
    }
   ],
   "source": [
    "# 2. How many species on average in each park? \n",
    "\n",
    "print('\\nYellowstone has the highest number of species averaging around 250 different kinds.\\n')\n",
    "df_group_1 = df.groupby('park_name').observations.aggregate(['min', 'max','mean','sum'])\n",
    "df_group_1\n"
   ]
  },
  {
   "cell_type": "code",
   "execution_count": 185,
   "metadata": {},
   "outputs": [
    {
     "name": "stdout",
     "output_type": "stream",
     "text": [
      "\n",
      "Top 10 Species Names by Total Count\n",
      "\n"
     ]
    },
    {
     "data": {
      "text/html": [
       "<div>\n",
       "<style scoped>\n",
       "    .dataframe tbody tr th:only-of-type {\n",
       "        vertical-align: middle;\n",
       "    }\n",
       "\n",
       "    .dataframe tbody tr th {\n",
       "        vertical-align: top;\n",
       "    }\n",
       "\n",
       "    .dataframe thead th {\n",
       "        text-align: right;\n",
       "    }\n",
       "</style>\n",
       "<table border=\"1\" class=\"dataframe\">\n",
       "  <thead>\n",
       "    <tr style=\"text-align: right;\">\n",
       "      <th></th>\n",
       "      <th>sum</th>\n",
       "    </tr>\n",
       "    <tr>\n",
       "      <th>scientific_name</th>\n",
       "      <th></th>\n",
       "    </tr>\n",
       "  </thead>\n",
       "  <tbody>\n",
       "    <tr>\n",
       "      <th>Holcus lanatus</th>\n",
       "      <td>1780</td>\n",
       "    </tr>\n",
       "    <tr>\n",
       "      <th>Castor canadensis</th>\n",
       "      <td>1725</td>\n",
       "    </tr>\n",
       "    <tr>\n",
       "      <th>Hypochaeris radicata</th>\n",
       "      <td>1720</td>\n",
       "    </tr>\n",
       "    <tr>\n",
       "      <th>Puma concolor</th>\n",
       "      <td>1711</td>\n",
       "    </tr>\n",
       "    <tr>\n",
       "      <th>Procyon lotor</th>\n",
       "      <td>1692</td>\n",
       "    </tr>\n",
       "    <tr>\n",
       "      <th>Columba livia</th>\n",
       "      <td>1653</td>\n",
       "    </tr>\n",
       "    <tr>\n",
       "      <th>Oncorhynchus mykiss</th>\n",
       "      <td>1626</td>\n",
       "    </tr>\n",
       "    <tr>\n",
       "      <th>Myotis lucifugus</th>\n",
       "      <td>1547</td>\n",
       "    </tr>\n",
       "    <tr>\n",
       "      <th>Streptopelia decaocto</th>\n",
       "      <td>1530</td>\n",
       "    </tr>\n",
       "    <tr>\n",
       "      <th>Canis lupus</th>\n",
       "      <td>1430</td>\n",
       "    </tr>\n",
       "  </tbody>\n",
       "</table>\n",
       "</div>"
      ],
      "text/plain": [
       "                        sum\n",
       "scientific_name            \n",
       "Holcus lanatus         1780\n",
       "Castor canadensis      1725\n",
       "Hypochaeris radicata   1720\n",
       "Puma concolor          1711\n",
       "Procyon lotor          1692\n",
       "Columba livia          1653\n",
       "Oncorhynchus mykiss    1626\n",
       "Myotis lucifugus       1547\n",
       "Streptopelia decaocto  1530\n",
       "Canis lupus            1430"
      ]
     },
     "execution_count": 185,
     "metadata": {},
     "output_type": "execute_result"
    }
   ],
   "source": [
    "# 3. What is the top 10 most observed species across all national parks?\n",
    "\n",
    "print('\\nTop 10 Species Names by Total Count\\n')\n",
    "df_group_2= df.groupby(['scientific_name']).observations.aggregate(['sum'])\n",
    "df_group_2.sort_values('sum',ascending=False,inplace=True)\n",
    "df_group_2 = df_group_2.iloc[:10]\n",
    "df_group_2"
   ]
  },
  {
   "cell_type": "code",
   "execution_count": 186,
   "metadata": {},
   "outputs": [
    {
     "name": "stdout",
     "output_type": "stream",
     "text": [
      "\n",
      "Mean Observation of Species by National Park and Category\n",
      "\n"
     ]
    },
    {
     "data": {
      "text/html": [
       "<div>\n",
       "<style scoped>\n",
       "    .dataframe tbody tr th:only-of-type {\n",
       "        vertical-align: middle;\n",
       "    }\n",
       "\n",
       "    .dataframe tbody tr th {\n",
       "        vertical-align: top;\n",
       "    }\n",
       "\n",
       "    .dataframe thead th {\n",
       "        text-align: right;\n",
       "    }\n",
       "</style>\n",
       "<table border=\"1\" class=\"dataframe\">\n",
       "  <thead>\n",
       "    <tr style=\"text-align: right;\">\n",
       "      <th>category</th>\n",
       "      <th>Mammal</th>\n",
       "      <th>Bird</th>\n",
       "      <th>Reptile</th>\n",
       "      <th>Amphibian</th>\n",
       "      <th>Fish</th>\n",
       "      <th>Vascular Plant</th>\n",
       "      <th>Nonvascular Plant</th>\n",
       "    </tr>\n",
       "    <tr>\n",
       "      <th>park_name</th>\n",
       "      <th></th>\n",
       "      <th></th>\n",
       "      <th></th>\n",
       "      <th></th>\n",
       "      <th></th>\n",
       "      <th></th>\n",
       "      <th></th>\n",
       "    </tr>\n",
       "  </thead>\n",
       "  <tbody>\n",
       "    <tr>\n",
       "      <th>Bryce National Park</th>\n",
       "      <td>20680</td>\n",
       "      <td>51647</td>\n",
       "      <td>7950</td>\n",
       "      <td>7380</td>\n",
       "      <td>12587</td>\n",
       "      <td>442959</td>\n",
       "      <td>32992</td>\n",
       "    </tr>\n",
       "    <tr>\n",
       "      <th>Great Smoky Mountains National Park</th>\n",
       "      <td>15071</td>\n",
       "      <td>37728</td>\n",
       "      <td>5691</td>\n",
       "      <td>5707</td>\n",
       "      <td>9306</td>\n",
       "      <td>333177</td>\n",
       "      <td>24857</td>\n",
       "    </tr>\n",
       "    <tr>\n",
       "      <th>Yellowstone National Park</th>\n",
       "      <td>50869</td>\n",
       "      <td>126996</td>\n",
       "      <td>19554</td>\n",
       "      <td>19440</td>\n",
       "      <td>30946</td>\n",
       "      <td>1112190</td>\n",
       "      <td>83021</td>\n",
       "    </tr>\n",
       "    <tr>\n",
       "      <th>Yosemite National Park</th>\n",
       "      <td>30535</td>\n",
       "      <td>76207</td>\n",
       "      <td>11483</td>\n",
       "      <td>11444</td>\n",
       "      <td>18792</td>\n",
       "      <td>664965</td>\n",
       "      <td>49783</td>\n",
       "    </tr>\n",
       "  </tbody>\n",
       "</table>\n",
       "</div>"
      ],
      "text/plain": [
       "category                             Mammal    Bird  Reptile  Amphibian  \\\n",
       "park_name                                                                 \n",
       "Bryce National Park                   20680   51647     7950       7380   \n",
       "Great Smoky Mountains National Park   15071   37728     5691       5707   \n",
       "Yellowstone National Park             50869  126996    19554      19440   \n",
       "Yosemite National Park                30535   76207    11483      11444   \n",
       "\n",
       "category                              Fish  Vascular Plant  Nonvascular Plant  \n",
       "park_name                                                                      \n",
       "Bryce National Park                  12587          442959              32992  \n",
       "Great Smoky Mountains National Park   9306          333177              24857  \n",
       "Yellowstone National Park            30946         1112190              83021  \n",
       "Yosemite National Park               18792          664965              49783  "
      ]
     },
     "execution_count": 186,
     "metadata": {},
     "output_type": "execute_result"
    }
   ],
   "source": [
    "# 4a. Total endangered species count per national park and category\n",
    "# This would be cool to show on a US map with different size circles.\n",
    "\n",
    "print('\\nMean Observation of Species by National Park and Category\\n')\n",
    "df_group_3_sum=df.pivot_table(index=['park_name'],columns='category',values='observations',aggfunc=['sum'])\n",
    "df_group_3_sum = df_group_3_sum.droplevel(0,axis=1)\n",
    "df_group_3_sum\n"
   ]
  },
  {
   "cell_type": "code",
   "execution_count": 187,
   "metadata": {},
   "outputs": [
    {
     "name": "stdout",
     "output_type": "stream",
     "text": [
      "\n",
      "Mean Observation of Species by National Park and Category\n",
      "\n"
     ]
    },
    {
     "data": {
      "text/html": [
       "<div>\n",
       "<style scoped>\n",
       "    .dataframe tbody tr th:only-of-type {\n",
       "        vertical-align: middle;\n",
       "    }\n",
       "\n",
       "    .dataframe tbody tr th {\n",
       "        vertical-align: top;\n",
       "    }\n",
       "\n",
       "    .dataframe thead th {\n",
       "        text-align: right;\n",
       "    }\n",
       "</style>\n",
       "<table border=\"1\" class=\"dataframe\">\n",
       "  <thead>\n",
       "    <tr style=\"text-align: right;\">\n",
       "      <th>category</th>\n",
       "      <th>Mammal</th>\n",
       "      <th>Bird</th>\n",
       "      <th>Reptile</th>\n",
       "      <th>Amphibian</th>\n",
       "      <th>Fish</th>\n",
       "      <th>Vascular Plant</th>\n",
       "      <th>Nonvascular Plant</th>\n",
       "    </tr>\n",
       "    <tr>\n",
       "      <th>park_name</th>\n",
       "      <th></th>\n",
       "      <th></th>\n",
       "      <th></th>\n",
       "      <th></th>\n",
       "      <th></th>\n",
       "      <th></th>\n",
       "      <th></th>\n",
       "    </tr>\n",
       "  </thead>\n",
       "  <tbody>\n",
       "    <tr>\n",
       "      <th>Bryce National Park</th>\n",
       "      <td>95</td>\n",
       "      <td>99</td>\n",
       "      <td>101</td>\n",
       "      <td>92</td>\n",
       "      <td>98</td>\n",
       "      <td>99</td>\n",
       "      <td>99</td>\n",
       "    </tr>\n",
       "    <tr>\n",
       "      <th>Great Smoky Mountains National Park</th>\n",
       "      <td>69</td>\n",
       "      <td>72</td>\n",
       "      <td>72</td>\n",
       "      <td>71</td>\n",
       "      <td>72</td>\n",
       "      <td>75</td>\n",
       "      <td>75</td>\n",
       "    </tr>\n",
       "    <tr>\n",
       "      <th>Yellowstone National Park</th>\n",
       "      <td>236</td>\n",
       "      <td>244</td>\n",
       "      <td>248</td>\n",
       "      <td>243</td>\n",
       "      <td>240</td>\n",
       "      <td>249</td>\n",
       "      <td>249</td>\n",
       "    </tr>\n",
       "    <tr>\n",
       "      <th>Yosemite National Park</th>\n",
       "      <td>141</td>\n",
       "      <td>146</td>\n",
       "      <td>145</td>\n",
       "      <td>143</td>\n",
       "      <td>146</td>\n",
       "      <td>149</td>\n",
       "      <td>149</td>\n",
       "    </tr>\n",
       "  </tbody>\n",
       "</table>\n",
       "</div>"
      ],
      "text/plain": [
       "category                             Mammal  Bird  Reptile  Amphibian  Fish  \\\n",
       "park_name                                                                     \n",
       "Bryce National Park                      95    99      101         92    98   \n",
       "Great Smoky Mountains National Park      69    72       72         71    72   \n",
       "Yellowstone National Park               236   244      248        243   240   \n",
       "Yosemite National Park                  141   146      145        143   146   \n",
       "\n",
       "category                             Vascular Plant  Nonvascular Plant  \n",
       "park_name                                                               \n",
       "Bryce National Park                              99                 99  \n",
       "Great Smoky Mountains National Park              75                 75  \n",
       "Yellowstone National Park                       249                249  \n",
       "Yosemite National Park                          149                149  "
      ]
     },
     "execution_count": 187,
     "metadata": {},
     "output_type": "execute_result"
    }
   ],
   "source": [
    "# 4b. Average endangered species count per national park and category\n",
    "\n",
    "print('\\nMean Observation of Species by National Park and Category\\n')\n",
    "df_group_3_mean= df.pivot_table(index=['park_name'],columns='category',values='observations',aggfunc=['mean']).round().astype(int)\n",
    "df_group_3_mean = df_group_3_mean.droplevel(0,axis=1)\n",
    "df_group_3_mean\n"
   ]
  },
  {
   "cell_type": "code",
   "execution_count": 188,
   "metadata": {},
   "outputs": [
    {
     "name": "stdout",
     "output_type": "stream",
     "text": [
      "\n",
      "Mean Observation of Species by Category and Conservation Status\n",
      "\n"
     ]
    },
    {
     "data": {
      "text/html": [
       "<div>\n",
       "<style scoped>\n",
       "    .dataframe tbody tr th:only-of-type {\n",
       "        vertical-align: middle;\n",
       "    }\n",
       "\n",
       "    .dataframe tbody tr th {\n",
       "        vertical-align: top;\n",
       "    }\n",
       "\n",
       "    .dataframe thead th {\n",
       "        text-align: right;\n",
       "    }\n",
       "</style>\n",
       "<table border=\"1\" class=\"dataframe\">\n",
       "  <thead>\n",
       "    <tr style=\"text-align: right;\">\n",
       "      <th>conservation_status</th>\n",
       "      <th>Not Applicable</th>\n",
       "      <th>Species of Concern</th>\n",
       "      <th>Threatened</th>\n",
       "      <th>Endangered</th>\n",
       "      <th>In Recovery</th>\n",
       "      <th>Grand Total</th>\n",
       "    </tr>\n",
       "    <tr>\n",
       "      <th>category</th>\n",
       "      <th></th>\n",
       "      <th></th>\n",
       "      <th></th>\n",
       "      <th></th>\n",
       "      <th></th>\n",
       "      <th></th>\n",
       "    </tr>\n",
       "  </thead>\n",
       "  <tbody>\n",
       "    <tr>\n",
       "      <th>Mammal</th>\n",
       "      <td>142</td>\n",
       "      <td>129</td>\n",
       "      <td>72</td>\n",
       "      <td>46</td>\n",
       "      <td>60</td>\n",
       "      <td>449</td>\n",
       "    </tr>\n",
       "    <tr>\n",
       "      <th>Bird</th>\n",
       "      <td>144</td>\n",
       "      <td>127</td>\n",
       "      <td>0</td>\n",
       "      <td>36</td>\n",
       "      <td>116</td>\n",
       "      <td>423</td>\n",
       "    </tr>\n",
       "    <tr>\n",
       "      <th>Reptile</th>\n",
       "      <td>142</td>\n",
       "      <td>127</td>\n",
       "      <td>0</td>\n",
       "      <td>0</td>\n",
       "      <td>0</td>\n",
       "      <td>269</td>\n",
       "    </tr>\n",
       "    <tr>\n",
       "      <th>Amphibian</th>\n",
       "      <td>141</td>\n",
       "      <td>128</td>\n",
       "      <td>70</td>\n",
       "      <td>36</td>\n",
       "      <td>0</td>\n",
       "      <td>375</td>\n",
       "    </tr>\n",
       "    <tr>\n",
       "      <th>Fish</th>\n",
       "      <td>144</td>\n",
       "      <td>132</td>\n",
       "      <td>82</td>\n",
       "      <td>38</td>\n",
       "      <td>0</td>\n",
       "      <td>396</td>\n",
       "    </tr>\n",
       "    <tr>\n",
       "      <th>Vascular Plant</th>\n",
       "      <td>143</td>\n",
       "      <td>129</td>\n",
       "      <td>69</td>\n",
       "      <td>40</td>\n",
       "      <td>0</td>\n",
       "      <td>381</td>\n",
       "    </tr>\n",
       "    <tr>\n",
       "      <th>Nonvascular Plant</th>\n",
       "      <td>143</td>\n",
       "      <td>135</td>\n",
       "      <td>0</td>\n",
       "      <td>0</td>\n",
       "      <td>0</td>\n",
       "      <td>278</td>\n",
       "    </tr>\n",
       "    <tr>\n",
       "      <th>Total</th>\n",
       "      <td>999</td>\n",
       "      <td>907</td>\n",
       "      <td>293</td>\n",
       "      <td>196</td>\n",
       "      <td>176</td>\n",
       "      <td>2571</td>\n",
       "    </tr>\n",
       "  </tbody>\n",
       "</table>\n",
       "</div>"
      ],
      "text/plain": [
       "conservation_status  Not Applicable  Species of Concern  Threatened  \\\n",
       "category                                                              \n",
       "Mammal                          142                 129          72   \n",
       "Bird                            144                 127           0   \n",
       "Reptile                         142                 127           0   \n",
       "Amphibian                       141                 128          70   \n",
       "Fish                            144                 132          82   \n",
       "Vascular Plant                  143                 129          69   \n",
       "Nonvascular Plant               143                 135           0   \n",
       "Total                           999                 907         293   \n",
       "\n",
       "conservation_status  Endangered  In Recovery  Grand Total  \n",
       "category                                                   \n",
       "Mammal                       46           60          449  \n",
       "Bird                         36          116          423  \n",
       "Reptile                       0            0          269  \n",
       "Amphibian                    36            0          375  \n",
       "Fish                         38            0          396  \n",
       "Vascular Plant               40            0          381  \n",
       "Nonvascular Plant             0            0          278  \n",
       "Total                       196          176         2571  "
      ]
     },
     "execution_count": 188,
     "metadata": {},
     "output_type": "execute_result"
    }
   ],
   "source": [
    "# 5. Which category has the most endangered species on average?\n",
    "#df_group_4= df.groupby(['conservation_status','category']).observations.aggregate(['sum'])\n",
    "\n",
    "# null values in the conservation status column likely represent species not categorized for conservation, i.e not under conservation.\n",
    "print('\\nMean Observation of Species by Category and Conservation Status\\n')\n",
    "df_group_4=df.pivot_table(index='category',columns='conservation_status',values='observations',aggfunc=['mean'],fill_value=(0)).round().astype(int)\n",
    "df_group_4.loc['Total']=df_group_4.sum()\n",
    "df_group_4['mean','Grand Total']=df_group_4.sum(axis=1) #adds a total line to the right of pivot table\n",
    "df_group_4= df_group_4.droplevel(0,axis=1)\n",
    "df_group_4\n"
   ]
  },
  {
   "cell_type": "markdown",
   "metadata": {},
   "source": [
    "### Plots\n",
    "1. Average species count\n",
    "2. Average species count per category and national park\n",
    "3. 'Endangered' species count per national park\n",
    "4. 'Endangered' species count per category"
   ]
  },
  {
   "cell_type": "code",
   "execution_count": 189,
   "metadata": {},
   "outputs": [
    {
     "data": {
      "image/png": "[encoded data removed]",
      "text/plain": [
       "<Figure size 600x400 with 1 Axes>"
      ]
     },
     "metadata": {},
     "output_type": "display_data"
    }
   ],
   "source": [
    "#Total species count per national park\n",
    "fig, ax = plt.subplots(figsize=(6, 4))\n",
    "#observations.groupby('park_name').mean()\n",
    "sns.barplot(x='park_name', y='observations',data=observations) #creates plot\n",
    "#inserts new line in between each work in x tick labels.\n",
    "#from here\n",
    "xlabels_new=[]\n",
    "for label in ax.xaxis.get_ticklabels():\n",
    "    xlabels_new.append(label.get_text().replace(' ','\\n'))\n",
    "ax.set_xticklabels(xlabels_new) \n",
    "# up to here\n",
    "ax.bar_label(ax.containers[-1], fmt='%d', label_type='center') #annotates in the center of bars \n",
    "#ax.tick_params(axis='x', labelrotation =10) # not needed because there is a break in between each word in x tick labels\n",
    "\n",
    "plt.title('')\n",
    "plt.show()"
   ]
  },
  {
   "cell_type": "code",
   "execution_count": 190,
   "metadata": {},
   "outputs": [
    {
     "data": {
      "image/png": "[encoded data removed]",
      "text/plain": [
       "<Figure size 800x600 with 1 Axes>"
      ]
     },
     "metadata": {},
     "output_type": "display_data"
    },
    {
     "data": {
      "image/png": "[encoded data removed]",
      "text/plain": [
       "<Figure size 800x600 with 1 Axes>"
      ]
     },
     "metadata": {},
     "output_type": "display_data"
    }
   ],
   "source": [
    "#Number of species per category and national park\n",
    "\n",
    "fig, ax = plt.subplots(figsize=(8, 6))\n",
    "sns.barplot(x='category', y='observations',hue='park_name',data=df)\n",
    "ax.tick_params(axis='x', labelrotation =10)\n",
    "ax.grid(axis='y')\n",
    "plt.title('Average Species Count by National Park')\n",
    "plt.show()\n",
    "plt.clf()\n",
    "%matplotlib inline\n",
    "\n",
    "\n",
    "#stacked bar plot view\n",
    "\n",
    "ax= df_group_3_mean.plot(kind='bar',stacked=True,figsize=(8,6))\n",
    "\n",
    "xlabels_new=[]\n",
    "for label in ax.xaxis.get_ticklabels():\n",
    "    xlabels_new.append(label.get_text().replace(' ','\\n'))\n",
    "ax.set_xticklabels(xlabels_new) \n",
    "ax.tick_params(axis='x', labelrotation =10)\n",
    "ax.grid(axis='y')\n",
    "plt.title('Average Species Count by Category')\n",
    "plt.show()\n",
    "plt.clf()\n",
    "%matplotlib inline\n"
   ]
  },
  {
   "cell_type": "code",
   "execution_count": 191,
   "metadata": {},
   "outputs": [
    {
     "data": {
      "image/png": "[encoded data removed]",
      "text/plain": [
       "<Figure size 1000x600 with 1 Axes>"
      ]
     },
     "metadata": {},
     "output_type": "display_data"
    }
   ],
   "source": [
    "#Number of endangered species for each national park\n",
    "df_group_4=df.pivot_table(index='category',columns='conservation_status',values='observations',aggfunc=['mean'],fill_value=(0)).round().astype(int)\n",
    "df_group_4= df_group_4.droplevel(0,axis=1)\n",
    "df_group_4.plot(kind='barh', stacked=True, figsize=(10,6))\n",
    "plt.title('Average Species Count by Category and Conservation Status')\n",
    "plt.show()\n",
    "plt.clf()\n",
    "%matplotlib inline\n",
    "\n"
   ]
  }
 ],
 "metadata": {
  "kernelspec": {
   "display_name": "Python 3.10.4 ('machine-learning-env')",
   "language": "python",
   "name": "python3"
  },
  "language_info": {
   "codemirror_mode": {
    "name": "ipython",
    "version": 3
   },
   "file_extension": ".py",
   "mimetype": "text/x-python",
   "name": "python",
   "nbconvert_exporter": "python",
   "pygments_lexer": "ipython3",
   "version": "3.10.4"
  },
  "vscode": {
   "interpreter": {
    "hash": "73377df2183f369987af4d0c78b7a8bf94e96ddaeb54f8a6c12d927b854c75ae"
   }
  }
 },
 "nbformat": 4,
 "nbformat_minor": 4
}
